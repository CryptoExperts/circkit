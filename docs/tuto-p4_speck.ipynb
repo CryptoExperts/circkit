{
 "cells": [
  {
   "cell_type": "markdown",
   "metadata": {},
   "source": [
    "# Speck Cipher"
   ]
  },
  {
   "cell_type": "markdown",
   "metadata": {},
   "source": [
    "## Implementation of Speck cipher"
   ]
  },
  {
   "cell_type": "code",
   "execution_count": 2,
   "metadata": {},
   "outputs": [],
   "source": [
    "# Reference: https://github.com/inmcm/Simon_Speck_Ciphers/blob/master/Python/simonspeckciphers/speck/speck.py\n",
    "# For the sake of simplicity, we modified some functions of the original implementation\n",
    "\n",
    "class SpeckCipher(object):\n",
    "    \"\"\"Speck Block Cipher Object\"\"\"\n",
    "    # valid cipher configurations stored:\n",
    "    # block_size:{key_size:number_rounds}\n",
    "    __valid_setups = {32: {64: 22},\n",
    "                      48: {72: 22, 96: 23},\n",
    "                      64: {96: 26, 128: 27},\n",
    "                      96: {96: 28, 144: 29},\n",
    "                      128: {128: 32, 192: 33, 256: 34}}\n",
    "\n",
    "    def __init__(self, key, key_size=128, block_size=128):\n",
    "\n",
    "        # Setup block/word size\n",
    "        self.possible_setups = self.__valid_setups[block_size]\n",
    "        self.block_size = block_size\n",
    "        self.word_size = self.block_size >> 1\n",
    "\n",
    "        # Setup Number of Rounds and Key Size\n",
    "        self.rounds = self.possible_setups[key_size]\n",
    "        self.key_size = key_size\n",
    "\n",
    "        # Create Properly Sized bit mask for truncating addition and left shift outputs\n",
    "        self.mod_mask = (2 ** self.word_size) - 1\n",
    "\n",
    "        # Mod mask for modular subtraction\n",
    "        self.mod_mask_sub = (2 ** self.word_size)\n",
    "\n",
    "        # Setup Circular Shift Parameters\n",
    "        if self.block_size == 32:\n",
    "            self.beta_shift = 2\n",
    "            self.alpha_shift = 7\n",
    "        else:\n",
    "            self.beta_shift = 3\n",
    "            self.alpha_shift = 8\n",
    "\n",
    "        assert len(key) == (self.key_size // self.word_size)\n",
    "        self.key = key\n",
    "\n",
    "        # Pre-compile key schedule\n",
    "        self.key_schedule()\n",
    "\n",
    "    def key_schedule(self):\n",
    "        self.round_keys = [self.key[-1]]\n",
    "        l_schedule = [self.key[i] for i in reversed(range(self.key_size // self.word_size - 1))]\n",
    "\n",
    "        for x in range(self.rounds - 1):\n",
    "            new_l_k = self.encrypt_round(l_schedule[x], self.round_keys[x], x)\n",
    "            l_schedule.append(new_l_k[0])\n",
    "            self.round_keys.append(new_l_k[1])\n",
    "        \n",
    "        return self.round_keys\n",
    "\n",
    "    def encrypt_round(self, x, y, k):\n",
    "        \"\"\"Complete One Round of Feistel Operation\"\"\"\n",
    "        rs_x = ((x << (self.word_size - self.alpha_shift)) + (x >> self.alpha_shift)) & self.mod_mask\n",
    "\n",
    "        add_sxy = (rs_x + y) & self.mod_mask\n",
    "\n",
    "        new_x = k ^ add_sxy\n",
    "\n",
    "        ls_y = ((y >> (self.word_size - self.beta_shift)) + (y << self.beta_shift)) & self.mod_mask\n",
    "\n",
    "        new_y = new_x ^ ls_y\n",
    "\n",
    "        return new_x, new_y\n",
    "\n",
    "    def decrypt_round(self, x, y, k):\n",
    "        \"\"\"Complete One Round of Inverse Feistel Operation\"\"\"\n",
    "\n",
    "        xor_xy = x ^ y\n",
    "\n",
    "        new_y = ((xor_xy << (self.word_size - self.beta_shift)) + (xor_xy >> self.beta_shift)) & self.mod_mask\n",
    "\n",
    "        xor_xk = x ^ k\n",
    "\n",
    "        msub = ((xor_xk - new_y) + self.mod_mask_sub) % self.mod_mask_sub\n",
    "\n",
    "        new_x = ((msub >> (self.word_size - self.alpha_shift)) + (msub << self.alpha_shift)) & self.mod_mask\n",
    "\n",
    "        return new_x, new_y\n",
    "\n",
    "    def encrypt(self, x, y):    \n",
    "        # Run Encryption Steps For Appropriate Number of Rounds\n",
    "        for k in self.round_keys:\n",
    "            x, y = self.encrypt_round(x, y, k)\n",
    "            \n",
    "        return x, y   \n",
    "\n",
    "    def decrypt(self, x, y):    \n",
    "        # Run Encryption Steps For Appropriate Number of Rounds\n",
    "        for k in reversed(self.round_keys): \n",
    "            x, y = self.decrypt_round(x, y, k)\n",
    "\n",
    "        return x, y\n"
   ]
  },
  {
   "cell_type": "markdown",
   "metadata": {},
   "source": [
    "Then, we can test the above implementation with [some test vectors given by the authors of Speck](https://eprint.iacr.org/2013/404.pdf)"
   ]
  },
  {
   "cell_type": "code",
   "execution_count": 3,
   "metadata": {},
   "outputs": [],
   "source": [
    "\n",
    "k3264 = [0x1918, 0x1110, 0x0908, 0x0100]\n",
    "m3264 = [0x6574, 0x694c]\n",
    "c3264 = SpeckCipher(k3264, 64, 32)\n",
    "t3264 = c3264.encrypt(m3264[0], m3264[1])\n",
    "assert t3264 == (0xa868, 0x42f2)\n",
    "\n",
    "k128256 = [0x1f1e1d1c1b1a1918, 0x1716151413121110, 0x0f0e0d0c0b0a0908, 0x0706050403020100]\n",
    "m128256 = [0x65736f6874206e49, 0x202e72656e6f6f70]\n",
    "c128256 = SpeckCipher(k128256, 256, 128)\n",
    "t128256 = c128256.encrypt(m128256[0], m128256[1])\n",
    "assert t128256 == (0x4109010405c0f53e, 0x4eeeb48d9c188f43)"
   ]
  },
  {
   "cell_type": "markdown",
   "metadata": {},
   "source": [
    "## Build a circuit for Simon cipher"
   ]
  },
  {
   "cell_type": "code",
   "execution_count": null,
   "metadata": {
    "tags": [
     "skip"
    ]
   },
   "outputs": [],
   "source": [
    "import sys\n",
    "sys.path.append(\"../\")"
   ]
  },
  {
   "cell_type": "code",
   "execution_count": 9,
   "metadata": {},
   "outputs": [],
   "source": [
    "from circkit.bitwise import BitwiseCircuit\n",
    "\n",
    "C = BitwiseCircuit(word_size=16)\n",
    "key = C.add_inputs(n=4, format=\"k%d\")\n",
    "msg = C.add_inputs(n=2, format=\"m%d\")\n",
    "simon = SpeckCipher(key, key_size=64, block_size=32)\n",
    "cpt = simon.encrypt(msg[0], msg[1])\n",
    "C.add_output(cpt)"
   ]
  },
  {
   "cell_type": "markdown",
   "metadata": {},
   "source": [
    "Then, we can evaluate the circuit to test its correctness."
   ]
  },
  {
   "cell_type": "code",
   "execution_count": 10,
   "metadata": {},
   "outputs": [
    {
     "name": "stdout",
     "output_type": "stream",
     "text": [
      "[43112, 17138]\n"
     ]
    }
   ],
   "source": [
    "k3264 = [0x1918, 0x1110, 0x0908, 0x0100]\n",
    "m3264 = [0x6574, 0x694c]\n",
    "inp = k3264 + m3264\n",
    "out = C.evaluate(inp)\n",
    "print(out)"
   ]
  },
  {
   "cell_type": "markdown",
   "metadata": {},
   "source": [
    "Note that we are using bitwise circuit and the truncation `x & self.mod_mask` is done automatically in the circuit. Therefore it is not necessary to have this truncation in the circuit. In the above Simon cipher, we still put it there because it is needed for the verification of the Simon implementation before building its circuit."
   ]
  }
 ],
 "metadata": {
  "celltoolbar": "Tags",
  "kernelspec": {
   "display_name": "Python 3",
   "language": "python",
   "name": "python3"
  },
  "language_info": {
   "codemirror_mode": {
    "name": "ipython",
    "version": 3
   },
   "file_extension": ".py",
   "mimetype": "text/x-python",
   "name": "python",
   "nbconvert_exporter": "python",
   "pygments_lexer": "ipython3",
   "version": "3.9.5"
  },
  "vscode": {
   "interpreter": {
    "hash": "986ed710fd0861d223fd21335cd6da488ecd593829391b548355316a07d356bf"
   }
  }
 },
 "nbformat": 4,
 "nbformat_minor": 2
}
