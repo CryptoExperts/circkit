{
 "cells": [
  {
   "cell_type": "markdown",
   "metadata": {},
   "source": [
    "# How to build a bitwise circuit"
   ]
  },
  {
   "cell_type": "markdown",
   "metadata": {},
   "source": [
    "Bitwise is another built-in circuit type in the `circkit` framework. We can follow the same steps as when we build an arithmetic circuit to build a bitwise one."
   ]
  },
  {
   "cell_type": "markdown",
   "metadata": {},
   "source": [
    "## Operations\n",
    "\n",
    "A bitwise circuit supports the following operations:\n",
    "\n",
    "| Operation | Notation | Note  |\n",
    "| :-        | :-:       | :-    |\n",
    "| AND       | $\\&$       |       |\n",
    "| OR        | $\\|$       |       |\n",
    "| XOR       | $\\wedge$       |       |\n",
    "| NOT       | $\\sim$       | unary operation |\n",
    "| SHL       | $\\ll$      | shift left (constant postions)|\n",
    "| SHR       | $\\gg$      | shift right (constant postions)|\n",
    "| ROL       | `node.rol(n)` | circular shift left (constant postions) |\n",
    "| ROR       | `node.ror(n)` | circular shift right (constant postions) |\n",
    "| ADD       | $+$       | addition |\n",
    "| SUB       | $-$       | subtraction    |\n",
    "| MUL       | $*$       | multiplication |\n",
    "| DIV       | $/$       | division |\n",
    "| MOD       | $\\%$       | modulo |\n",
    "| NEG       | $-$       | negation, unary operation |\n",
    "| LUT       | `node.lookup_in(-)` | lookup table, value of node is index |\n",
    "| RND       | `C.RND()()`       | $\\text{C}$ is the circuit |"
   ]
  },
  {
   "cell_type": "markdown",
   "metadata": {},
   "source": [
    "## Examples\n",
    "\n",
    "To build a bitwise circuit, we have to specify $\\text{word_size}$ which is the bit size of a word (value of a node). We denote $\\text{mask} = 2^\\text{word_size} - 1$. Every word in the circuit is automatically ensured not to exceed $\\text{word_size}$ bits by AND-ing with the mask. Below is a simple example."
   ]
  },
  {
   "cell_type": "code",
   "execution_count": 2,
   "metadata": {
    "tags": [
     "skip"
    ]
   },
   "outputs": [],
   "source": [
    "import sys\n",
    "sys.path.append(\"../\")"
   ]
  },
  {
   "cell_type": "code",
   "execution_count": 4,
   "metadata": {},
   "outputs": [
    {
     "name": "stdout",
     "output_type": "stream",
     "text": [
      "Circuit output:\n",
      "[48, 93]\n"
     ]
    }
   ],
   "source": [
    "from circkit.bitwise import BitwiseCircuit\n",
    "\n",
    "C = BitwiseCircuit(word_size=8)\n",
    "a = C.add_input(\"a\")\n",
    "b = C.add_input(\"b\")\n",
    "\n",
    "x0 = a + b\n",
    "x1 = a - b + 2\n",
    "x2 = a * b - 3\n",
    "x3 = a / b * 5\n",
    "x4 = a % 3 + b\n",
    "\n",
    "x5 = x0 << 2\n",
    "x6 = x1 >> 4\n",
    "x7 = x2.rol(5)\n",
    "x8 = x3.ror(6)\n",
    "x9 = ~x4\n",
    "\n",
    "x10 = x5 ^ x6\n",
    "x11 = x7 | x8\n",
    "x12 = x9 & x10\n",
    "x13 = -x11\n",
    "\n",
    "C.add_output(x12)\n",
    "C.add_output(x13)\n",
    "\n",
    "inp = [100, 200]\n",
    "out = C.evaluate(inp)\n",
    "print(\"Circuit output:\")\n",
    "print(out)"
   ]
  },
  {
   "cell_type": "markdown",
   "metadata": {},
   "source": [
    "In the advanced examples of this documentation, we build the Simon cipher and Speck cipher based on bitwise circuits to demonstrate the usefulness of this circuit type in applications"
   ]
  },
  {
   "cell_type": "code",
   "execution_count": 6,
   "metadata": {},
   "outputs": [
    {
     "name": "stdout",
     "output_type": "stream",
     "text": [
      "Circuit output:\n",
      "[2, 2, 0]\n"
     ]
    }
   ],
   "source": [
    "from circkit.bitwise import BitwiseCircuit\n",
    "\n",
    "C = BitwiseCircuit(word_size=8)\n",
    "a = C.add_input(\"a\")\n",
    "\n",
    "x0 = a + 257\n",
    "x1 = a + 1\n",
    "\n",
    "x2 = a / 3\n",
    "\n",
    "C.add_output([x0, x1, x2])\n",
    "\n",
    "inp = [1]\n",
    "out = C.evaluate(inp)\n",
    "print(\"Circuit output:\")\n",
    "print(out)"
   ]
  },
  {
   "cell_type": "markdown",
   "metadata": {},
   "source": [
    "In the above example, $257$ is represented by $1$ in a 8-bit word, thus $x_0 = x_1$. The division only takes the round number, thus $x_2 = 1/3 = 0$. "
   ]
  }
 ],
 "metadata": {
  "celltoolbar": "Tags",
  "kernelspec": {
   "display_name": "Python 3 (ipykernel)",
   "language": "python",
   "name": "python3"
  },
  "language_info": {
   "codemirror_mode": {
    "name": "ipython",
    "version": 3
   },
   "file_extension": ".py",
   "mimetype": "text/x-python",
   "name": "python",
   "nbconvert_exporter": "python",
   "pygments_lexer": "ipython3",
   "version": "3.10.2"
  },
  "vscode": {
   "interpreter": {
    "hash": "aee8b7b246df8f9039afb4144a1f6fd8d2ca17a180786b69acc140d282b71a49"
   }
  }
 },
 "nbformat": 4,
 "nbformat_minor": 4
}
