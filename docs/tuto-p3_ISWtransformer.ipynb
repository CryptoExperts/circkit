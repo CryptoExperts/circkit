{
 "cells": [
  {
   "cell_type": "markdown",
   "metadata": {},
   "source": [
    "# How to define a transformer\n",
    "\n",
    "By defining a transformer, we can transform a circuit into another circuit (possibly of a new circuit type). In this tutorial, we show you:\n",
    "\n",
    "- ISW transformer: given a circuit, we transform it into a new circuit working on shares (ISW circuit, see [ISW03](https://people.eecs.berkeley.edu/~daw/papers/privcirc-crypto03.pdf)). This is the built-in transformer which you can import and use directly from the framework.\n",
    "- How to define your own transformer: we show you the steps of defining the ISW transformer. You will see how to define a new transformer from those steps."
   ]
  },
  {
   "cell_type": "markdown",
   "metadata": {},
   "source": [
    "## ISW Transformer"
   ]
  },
  {
   "cell_type": "markdown",
   "metadata": {},
   "source": [
    "Let us take a boolean circuit as an example. We transform this circuit into a new boolean circuit working on shares."
   ]
  },
  {
   "cell_type": "code",
   "execution_count": 4,
   "metadata": {
    "tags": [
     "skip"
    ]
   },
   "outputs": [],
   "source": [
    "import sys\n",
    "sys.path.append(\"../\")"
   ]
  },
  {
   "cell_type": "code",
   "execution_count": 6,
   "metadata": {},
   "outputs": [
    {
     "name": "stdout",
     "output_type": "stream",
     "text": [
      "Original circuit output: [1]\n",
      "Output shares: [1, 1, 1] --> 1\n",
      "Output shares: [1, 1, 1] --> 1\n",
      "Output shares: [0, 1, 0] --> 1\n",
      "Output shares: [0, 0, 1] --> 1\n",
      "Output shares: [1, 0, 0] --> 1\n"
     ]
    }
   ],
   "source": [
    "from circkit.transformers.isw import IswOnArithmetic\n",
    "from circkit.boolean import BooleanCircuit\n",
    "\n",
    "C = BooleanCircuit()\n",
    "x = C.add_input(\"x\")\n",
    "y = C.add_input(\"y\")\n",
    "\n",
    "z = x * y + 1\n",
    "t = z + x + 1\n",
    "C.add_output(t)\n",
    "\n",
    "# ISW transformer\n",
    "transformer = IswOnArithmetic(order=2)\n",
    "iswC = transformer.transform(C)\n",
    "\n",
    "# see the graph and verify the ISW circuit\n",
    "iswC.digraph().view()\n",
    "\n",
    "# Evaluate on original circuit\n",
    "inp = [1, 0]\n",
    "out = C.evaluate(inp)\n",
    "print(f\"Original circuit output: {out}\")\n",
    "\n",
    "# Evaluate on ISW circuit\n",
    "# 1 = 1 + 0 + 0 and 0 = 1 + 1 + 0\n",
    "inp_shares = [1, 0, 0, 1, 1, 0]\n",
    "n_tests = 5\n",
    "for i in range(n_tests):\n",
    "    out_shares = iswC.evaluate(inp_shares)\n",
    "    ret = 0\n",
    "    for s in out_shares:\n",
    "        ret ^= s\n",
    "    print(f\"Output shares: {out_shares} --> {ret}\")"
   ]
  },
  {
   "cell_type": "markdown",
   "metadata": {},
   "source": [
    "## How to define your transformer\n",
    "\n",
    "In this section, we show how to define the ISW transformer from which we can see the steps of defining a new transformer.\n",
    "\n",
    "Given a *source circuit*, our goal is to transform it into a *target circuit*. The high-level idea is to visit all nodes in the source circuit and process each node in the way we want to define the transformer. The framework already provides the skeleton of the transformation in the ``CircuitTransformation`` class. We just need to inherit this class and then define the ``visit_<OP>`` functions where ``<OP>`` are the operations (or node types) defined in the circuit type.\n",
    "\n",
    "In a boolean circuit, there are 4 node types. Therefore, we define 4 functions:\n",
    "\n",
    "- ``visit_INPUT``: for each input node in the source circuit, we create its nodes of shares in the target circuit.\n",
    "- ``visit_ADD`` (XOR): a XOR node in the source circuit represents by some XOR nodes on the shares of the operands in the target circuit. \n",
    "- ``visit_MUL`` (AND): to transform an AND node in the source circuit, we have to generate some randomnesses and create some XOR and AND nodes on those randomnesses and the shares.\n",
    "- ``visit_CONST``: a constant is represented by some shares in the target circuit.\n",
    "\n",
    "The following code is the implementation of the ISW transformer:"
   ]
  },
  {
   "cell_type": "code",
   "execution_count": 4,
   "metadata": {},
   "outputs": [],
   "source": [
    "from circkit.transformers.core import CircuitTransformer\n",
    "from circkit.array import Array\n",
    "\n",
    "\n",
    "class IswOnArithmetic(CircuitTransformer):\n",
    "    def __init__(self, order: int):\n",
    "        \"\"\"\n",
    "        Arguments\n",
    "        ---------\n",
    "        :order: ISW masking order (number of shares = order + 1)\n",
    "        \"\"\"\n",
    "        super().__init__()\n",
    "        self.order = order\n",
    "        self.n_shares = order + 1\n",
    "\n",
    "    def visit_INPUT(self, node):\n",
    "        shares = []\n",
    "        for i in range(self.n_shares):\n",
    "            new_name = f\"{node.operation.name}_share{i}\"\n",
    "            x = self.target_circuit.add_input(new_name)\n",
    "            shares.append(x)\n",
    "        shares = Array(shares)\n",
    "\n",
    "        return shares\n",
    "\n",
    "    def visit_ADD(self, node, x, y):\n",
    "        return x + y\n",
    "    visit_XOR = visit_ADD\n",
    "\n",
    "    def visit_MUL(self, node, x, y):\n",
    "        r = [[0] * self.n_shares for _ in range(self.n_shares)]\n",
    "        for i in range(self.n_shares):\n",
    "            for j in range(i+1, self.n_shares):\n",
    "                r[i][j] = self.target_circuit.RND()()\n",
    "                r[j][i] = r[i][j] + x[i]*y[j] + x[j]*y[i]\n",
    "\n",
    "        z = x * y\n",
    "        for i in range(self.n_shares):\n",
    "            for j in range(self.n_shares):\n",
    "                if i != j:\n",
    "                    z[i] = z[i] - r[i][j]\n",
    "        return z\n",
    "    visit_AND = visit_MUL\n",
    "\n",
    "    def visit_CONST(self, node):\n",
    "        shares = Array(self.target_circuit.RND()() for i in range(self.order))\n",
    "\n",
    "        c = self.target_circuit.add_const(node.operation.value)\n",
    "        for i in range(self.order):\n",
    "            c = c + shares[i]\n",
    "\n",
    "        shares.append(c)\n",
    "        return shares"
   ]
  }
 ],
 "metadata": {
  "celltoolbar": "Tags",
  "kernelspec": {
   "display_name": "Python 3.9.5 ('.venv': venv)",
   "language": "python",
   "name": "python3"
  },
  "language_info": {
   "codemirror_mode": {
    "name": "ipython",
    "version": 3
   },
   "file_extension": ".py",
   "mimetype": "text/x-python",
   "name": "python",
   "nbconvert_exporter": "python",
   "pygments_lexer": "ipython3",
   "version": "3.9.5"
  },
  "vscode": {
   "interpreter": {
    "hash": "e086617172c2f1b409fe953659570834646c54d1ffbe9a2490a5bb76cb24e9de"
   }
  }
 },
 "nbformat": 4,
 "nbformat_minor": 4
}
