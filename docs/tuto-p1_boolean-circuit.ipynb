{
 "cells": [
  {
   "cell_type": "markdown",
   "metadata": {},
   "source": [
    "# How to build a boolean circuit"
   ]
  },
  {
   "cell_type": "markdown",
   "metadata": {},
   "source": [
    "Boolean is another built-in circuit type in the `circkit` framework. We can follow the same steps as when we build an arithmetic circuit to build a boolean one."
   ]
  },
  {
   "cell_type": "markdown",
   "metadata": {},
   "source": [
    "## Operations\n",
    "\n",
    "A boolean circuit supports the following operations:\n",
    "\n",
    "| Operation     | Notation           | Note  |\n",
    "| :-            | :-:                | :-    |\n",
    "| AND           | $\\&$ or $*$        |       |\n",
    "| OR            | $\\mid$               |       |\n",
    "| XOR           | $\\wedge$ or $+$    |       |\n",
    "| NOT           | $\\sim$             | unary operation |\n",
    "| RND           | $\\text{C.RND()()}$ | $\\text{C}$ is the circuit |"
   ]
  },
  {
   "cell_type": "markdown",
   "metadata": {},
   "source": [
    "## Examples\n",
    "\n",
    "Below is a simple example of building a boolean circuit."
   ]
  },
  {
   "cell_type": "code",
   "execution_count": 1,
   "metadata": {
    "tags": [
     "skip"
    ]
   },
   "outputs": [],
   "source": [
    "import sys\n",
    "sys.path.append(\"../\")"
   ]
  },
  {
   "cell_type": "code",
   "execution_count": 5,
   "metadata": {},
   "outputs": [
    {
     "name": "stdout",
     "output_type": "stream",
     "text": [
      "Circuit output: \n",
      "[1, 1]\n"
     ]
    }
   ],
   "source": [
    "from circkit.boolean import BooleanCircuit\n",
    "\n",
    "C = BooleanCircuit()\n",
    "a = C.add_input(\"a\")\n",
    "b = C.add_input(\"b\")\n",
    "\n",
    "x0 = a + b\n",
    "x1 = a * b\n",
    "x2 = a ^ b\n",
    "x3 = a & b\n",
    "x4 = x0 | x1\n",
    "x5 = ~x2 ^ 1\n",
    "x6 = C.RND()()\n",
    "x7 = x6 ^ x4\n",
    "x8 = x5 * 1\n",
    "\n",
    "C.add_output(x7)\n",
    "C.add_output(x8)\n",
    "\n",
    "inp = [1, 0]\n",
    "out = C.evaluate(inp)\n",
    "print(\"Circuit output: \")\n",
    "print(out)\n"
   ]
  },
  {
   "cell_type": "markdown",
   "metadata": {},
   "source": [
    "In the advanced examples of this documentation, we build the bitslicing AES based on boolean circuit to demonstrate the usefulness of this circuit type in real applications."
   ]
  }
 ],
 "metadata": {
  "celltoolbar": "Tags",
  "kernelspec": {
   "display_name": "Python 3",
   "language": "python",
   "name": "python3"
  },
  "language_info": {
   "codemirror_mode": {
    "name": "ipython",
    "version": 3
   },
   "file_extension": ".py",
   "mimetype": "text/x-python",
   "name": "python",
   "nbconvert_exporter": "python",
   "pygments_lexer": "ipython3",
   "version": "3.9.5"
  },
  "vscode": {
   "interpreter": {
    "hash": "aee8b7b246df8f9039afb4144a1f6fd8d2ca17a180786b69acc140d282b71a49"
   }
  }
 },
 "nbformat": 4,
 "nbformat_minor": 2
}
