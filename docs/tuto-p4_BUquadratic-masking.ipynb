{
 "cells": [
  {
   "cell_type": "markdown",
   "metadata": {},
   "source": [
    "# Minimalist quadratic masking transformer\n",
    "\n",
    "This is an example for the transformer of minimalist quadratic masking scheme which was proposed in [BU18](https://eprint.iacr.org/2018/049.pdf)"
   ]
  },
  {
   "cell_type": "markdown",
   "metadata": {},
   "source": [
    "## Define the transformer"
   ]
  },
  {
   "cell_type": "code",
   "execution_count": 1,
   "metadata": {
    "tags": [
     "skip"
    ]
   },
   "outputs": [],
   "source": [
    "import sys\n",
    "sys.path.append(\"../\")"
   ]
  },
  {
   "cell_type": "code",
   "execution_count": 4,
   "metadata": {},
   "outputs": [],
   "source": [
    "from circkit.transformers.core import CircuitTransformer\n",
    "from circkit.boolean import BooleanCircuit\n",
    "from circkit.array import Array\n",
    "\n",
    "class BUQuadraticMasking(CircuitTransformer):\n",
    "    # circuit type of the target circuit\n",
    "    TARGET_CIRCUIT = BooleanCircuit\n",
    "\n",
    "    def __init__(self):\n",
    "        \"\"\"\n",
    "        Arguments\n",
    "        ---------\n",
    "        :order: ISW masking order\n",
    "        \"\"\"\n",
    "        super().__init__()\n",
    "        # fixed number of shares\n",
    "        self.n_shares = 3\n",
    "\n",
    "    def refresh(self, shares, randshares):\n",
    "        a, b, c = shares\n",
    "        ra, rb, rc = randshares\n",
    "        \n",
    "        ma = ra * (b + rc)\n",
    "        mb = rb * (a + rc)\n",
    "        rc = ma + mb + (ra + rc)*(rb + rc) + rc\n",
    "\n",
    "        a1 = a + ra\n",
    "        b1 = b + rb\n",
    "        c1 = c + rc\n",
    "        new_shares = Array([a1, b1, c1])\n",
    "        return new_shares\n",
    "\n",
    "    def visit_INPUT(self, node):\n",
    "        shares = []\n",
    "        for i in range(self.n_shares):\n",
    "            new_name = f\"{node.operation.name}_share{i}\"\n",
    "            x = self.target_circuit.add_input(new_name)\n",
    "            shares.append(x)\n",
    "        shares = Array(shares)\n",
    "\n",
    "        return shares\n",
    "\n",
    "    def visit_XOR(self, node, shares_1, shares_2):\n",
    "        ra = self.target_circuit.RND()()\n",
    "        rb = self.target_circuit.RND()()\n",
    "        rc = self.target_circuit.RND()()\n",
    "        randshares_1 = Array([ra, rb, rc])\n",
    "\n",
    "        rd = self.target_circuit.RND()()\n",
    "        re = self.target_circuit.RND()()\n",
    "        rf = self.target_circuit.RND()()\n",
    "        randshares_2 = Array([rd, re, rf])        \n",
    "\n",
    "        a, b, c = self.refresh(shares_1, randshares_1)\n",
    "        d, e, f = self.refresh(shares_2, randshares_2)\n",
    "\n",
    "        x = a + d\n",
    "        y = b + e\n",
    "        z = c + f + a*e + b*d\n",
    "        \n",
    "        return Array([x, y, z])\n",
    "\n",
    "    def visit_AND(self, node, shares_1, shares_2):\n",
    "        ra = self.target_circuit.RND()()\n",
    "        rb = self.target_circuit.RND()()\n",
    "        rc = self.target_circuit.RND()()\n",
    "        randshares_1 = Array([ra, rb, rc])\n",
    "\n",
    "        rd = self.target_circuit.RND()()\n",
    "        re = self.target_circuit.RND()()\n",
    "        rf = self.target_circuit.RND()()\n",
    "        randshares_2 = Array([rd, re, rf])  \n",
    "\n",
    "        a, b, c = self.refresh(shares_1, randshares_1)\n",
    "        d, e, f = self.refresh(shares_2, randshares_2)\n",
    "\n",
    "        ma = b*f + rc * e\n",
    "        md = c*e + rf * b\n",
    "\n",
    "        x = a*e + rf\n",
    "        y = b*d + rc\n",
    "        z = a*ma + d*md + rc*rf + c*f\n",
    "\n",
    "        return Array([x, y, z])\n",
    "\n",
    "    def visit_CONST(self, node):\n",
    "        ra = self.target_circuit.RND()()\n",
    "        rb = self.target_circuit.RND()()        \n",
    "        \n",
    "        x = self.target_circuit.add_const(node.operation.value)\n",
    "        rx = ra*rb + x\n",
    "\n",
    "        shares = Array([ra, rb, rx])\n",
    "        return shares\n",
    "\n"
   ]
  },
  {
   "cell_type": "markdown",
   "metadata": {},
   "source": [
    "## Test on a boolean circuit"
   ]
  },
  {
   "cell_type": "code",
   "execution_count": 6,
   "metadata": {},
   "outputs": [
    {
     "name": "stdout",
     "output_type": "stream",
     "text": [
      "Original circuit output: [1]\n",
      "Output shares: [0, 0, 1] --> 1\n",
      "Output shares: [1, 1, 0] --> 1\n",
      "Output shares: [1, 0, 1] --> 1\n",
      "Output shares: [1, 1, 0] --> 1\n",
      "Output shares: [0, 1, 1] --> 1\n",
      "Output shares: [0, 0, 1] --> 1\n",
      "Output shares: [1, 0, 1] --> 1\n",
      "Output shares: [1, 1, 0] --> 1\n",
      "Output shares: [0, 0, 1] --> 1\n",
      "Output shares: [0, 0, 1] --> 1\n"
     ]
    }
   ],
   "source": [
    "from circkit.boolean import BooleanCircuit\n",
    "\n",
    "C = BooleanCircuit()\n",
    "x = C.add_input(\"x\")\n",
    "y = C.add_input(\"y\")\n",
    "\n",
    "z = x * y + 1\n",
    "t = z + x + 1\n",
    "C.add_output(t)\n",
    "\n",
    "# ISW transformer\n",
    "transformer = BUQuadraticMasking()\n",
    "newC = transformer.transform(C)\n",
    "\n",
    "# see the graph and verify the ISW circuit\n",
    "# iswC.digraph().view()\n",
    "\n",
    "# # Evaluate on original circuit\n",
    "inp = [1, 0]\n",
    "out = C.evaluate(inp)\n",
    "print(f\"Original circuit output: {out}\")\n",
    "\n",
    "# Evaluate on BU quadratic masking circuit\n",
    "# 1 = 1 * 0 + 1 and 0 = 1 * 1 + 1\n",
    "inp_shares = [1, 0, 1, 1, 1, 1]\n",
    "n_tests = 10\n",
    "for i in range(n_tests):\n",
    "    out_shares = newC.evaluate(inp_shares)\n",
    "    a, b, c = out_shares\n",
    "    ret = a*b + c\n",
    "    print(f\"Output shares: {out_shares} --> {ret}\")"
   ]
  }
 ],
 "metadata": {
  "celltoolbar": "Tags",
  "kernelspec": {
   "display_name": "Python 3",
   "language": "python",
   "name": "python3"
  },
  "language_info": {
   "codemirror_mode": {
    "name": "ipython",
    "version": 3
   },
   "file_extension": ".py",
   "mimetype": "text/x-python",
   "name": "python",
   "nbconvert_exporter": "python",
   "pygments_lexer": "ipython3",
   "version": "3.9.5"
  },
  "vscode": {
   "interpreter": {
    "hash": "986ed710fd0861d223fd21335cd6da488ecd593829391b548355316a07d356bf"
   }
  }
 },
 "nbformat": 4,
 "nbformat_minor": 2
}
