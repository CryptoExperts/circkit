{
 "cells": [
  {
   "cell_type": "markdown",
   "metadata": {},
   "source": [
    "# How to build an arithmetic circuit\n",
    "\n",
    "In this tutorial, we show you how to build an arithmetic circuit based on the `circkit` framework. In particular, we provide the instructions on:\n",
    "\n",
    "1. [How to build a circuit](#how-to-build-a-circuit)\n",
    "2. [How to visualize a circuit](#how-to-visualize-a-circuit)\n",
    "3. [How to transform a circuit to a matrix](#how-to-transform-a-circuit-to-a-matrix)\n",
    "4. [How to trace the intermediate values](#how-to-trace-the-intermediate-values)"
   ]
  },
  {
   "cell_type": "markdown",
   "metadata": {},
   "source": [
    "## 1. How to build a circuit <a class=\"anchor\" id=\"how-to-build-a-circuit\"></a>\n",
    "\n",
    "There are 5 steps to build a circuit."
   ]
  },
  {
   "cell_type": "code",
   "execution_count": 1,
   "metadata": {
    "tags": [
     "skip"
    ]
   },
   "outputs": [],
   "source": [
    "import sys\n",
    "sys.path.append(\"../\")"
   ]
  },
  {
   "cell_type": "markdown",
   "metadata": {},
   "source": [
    "### Step 1: Initialize a new arithmetic circuit <a class=\"anchor\" id=\"step-1\"></a>"
   ]
  },
  {
   "cell_type": "markdown",
   "metadata": {},
   "source": [
    "#### Arithmetic circuit types"
   ]
  },
  {
   "cell_type": "markdown",
   "metadata": {},
   "source": [
    "There are 2 types of arithmetic circuit that you can use:\n",
    "\n",
    "- ``ArithmeticCircuit``: This supports regular arithmetic operations (e.g., $+$, $-$, $*$, $/$, ... See step 3 for more details)\n",
    "- ``OptArithmeticCircuit``: This inherits the ``ArithmeticCircuit`` type and additionally supports\n",
    "\n",
    "    + caching operations and nodes\n",
    "    + precomputing annihilator operations, e.g. a*0 = 0\n",
    "    + precomputing identity operations, e.g. a*1 = a, a+0 = 0\n",
    "    + precomputing constant operations\n",
    "\n",
    "Here we just provide examples on the ``ArithmeticCircuit`` type. For the ``OptArithmeticCircuit``, it is almost similar.\n",
    "\n"
   ]
  },
  {
   "cell_type": "markdown",
   "metadata": {},
   "source": [
    "#### Base ring\n",
    "\n",
    "In case the computation of the circuit takes place in a field, we can specify the ring when instantiating a new circuit. All constants in the circuit will then be automatically converted to values in the field. Let us take $GF(2^8)$ as an example."
   ]
  },
  {
   "cell_type": "code",
   "execution_count": 2,
   "metadata": {},
   "outputs": [
    {
     "name": "stdout",
     "output_type": "stream",
     "text": [
      "Circuit information:\n",
      "<ArithmeticCircuit 'AToyCircuit' in:0 out:0 nodes:0>\n"
     ]
    }
   ],
   "source": [
    "from circkit.arithmetic import ArithmeticCircuit\n",
    "from sage.all import GF\n",
    "K = GF(2**8)\n",
    "\n",
    "# Step 1: Initialize a new arithmetic circuit\n",
    "C = ArithmeticCircuit(base_ring=K, name=\"AToyCircuit\")\n",
    "print(\"Circuit information:\")\n",
    "print(C)"
   ]
  },
  {
   "cell_type": "markdown",
   "metadata": {},
   "source": [
    "By default, if we do not specify a base ring for the circuit, the operations of the circuit will take place in decimal numbers."
   ]
  },
  {
   "cell_type": "markdown",
   "metadata": {},
   "source": [
    "### Step 2: Define the input nodes <a class=\"anchor\" id=\"step-2\"></a>\n",
    "We can define the input nodes of the circuit by one of the two following methods:\n",
    "\n",
    "- ``add_input``: this creates an input node. We use this method to create the input nodes one by one. Note that the name of a node (e.g., `inp_0`, `inp_1` in the example below) is a mandatory argument."
   ]
  },
  {
   "cell_type": "code",
   "execution_count": 3,
   "metadata": {},
   "outputs": [
    {
     "name": "stdout",
     "output_type": "stream",
     "text": [
      "Circuit input nodes:\n",
      "[<ArithmeticCircuit:INPUT[name=inp_0]#0 ()>, <ArithmeticCircuit:INPUT[name=inp_1]#1 ()>]\n"
     ]
    }
   ],
   "source": [
    "from circkit.arithmetic import ArithmeticCircuit\n",
    "from sage.all import GF\n",
    "K = GF(2**8)\n",
    "\n",
    "# Step 1: Initialize a new arithmetic circuit\n",
    "C = ArithmeticCircuit(base_ring=K, name=\"AToyCircuit\")\n",
    "\n",
    "# Step 2: Define the input nodes (one by one)\n",
    "a = C.add_input(\"inp_0\")\n",
    "b = C.add_input(\"inp_1\")\n",
    "print(\"Circuit input nodes:\")\n",
    "print(C.inputs)"
   ]
  },
  {
   "cell_type": "markdown",
   "metadata": {},
   "source": [
    "- ``add_inputs``: this creates a list of input nodes. Note that the names of the nodes are specified by a format, e.g. `inp_%d` where `%d` is automatically replaced by a counter in $[0,n)$. You can see that the following example creates the same input nodes as the previous one."
   ]
  },
  {
   "cell_type": "code",
   "execution_count": 4,
   "metadata": {},
   "outputs": [
    {
     "name": "stdout",
     "output_type": "stream",
     "text": [
      "Circuit input nodes:\n",
      "[<ArithmeticCircuit:INPUT[name=inp_0]#0 ()>, <ArithmeticCircuit:INPUT[name=inp_1]#1 ()>]\n"
     ]
    }
   ],
   "source": [
    "from circkit.arithmetic import ArithmeticCircuit\n",
    "from sage.all import GF\n",
    "K = GF(2**8)\n",
    "\n",
    "# Step 1: Initialize a new arithmetic circuit\n",
    "C = ArithmeticCircuit(base_ring=K, name=\"AToyCircuit\")\n",
    "\n",
    "# Step 2: Define the input nodes (by a list)\n",
    "inp_nodes = C.add_inputs(n=2, format=\"inp_%d\")\n",
    "print(\"Circuit input nodes:\")\n",
    "print(C.inputs)"
   ]
  },
  {
   "cell_type": "markdown",
   "metadata": {},
   "source": [
    "### Step 3: Perform the computation <a class=\"anchor\" id=\"step-3\"></a>"
   ]
  },
  {
   "cell_type": "markdown",
   "metadata": {},
   "source": [
    "#### Basic operations\n",
    "\n",
    "Below are the built-in operations in ``ArithmeticCircuit`` and ``OptArithmeticCircuit``. The operators of a operation can be nodes or constants.\n",
    "\n",
    "| Operation     | Notation  | Note  |\n",
    "| :-            | :-:       | :-    |\n",
    "| Addition      | $+$         |       |\n",
    "| Subtraction   | $-$        |       |\n",
    "| Multiplication| $*$         |       |\n",
    "| Division      | $/$         |       |\n",
    "| Exponentiation| $**$        | only support constant exponent |\n",
    "| Inversion     | $\\sim$         | only for base ring elements    |\n",
    "| Negation      | $-$         | unary operation for decimal only |"
   ]
  },
  {
   "cell_type": "code",
   "execution_count": 5,
   "metadata": {},
   "outputs": [
    {
     "name": "stdout",
     "output_type": "stream",
     "text": [
      "Circuit information:\n",
      "<ArithmeticCircuit 'AToyCircuit' in:2 out:0 nodes:10>\n"
     ]
    }
   ],
   "source": [
    "from circkit.arithmetic import ArithmeticCircuit\n",
    "from sage.all import GF\n",
    "K = GF(2**8)\n",
    "\n",
    "# Step 1: Initialize a new arithmetic circuit\n",
    "C = ArithmeticCircuit(base_ring=K, name=\"AToyCircuit\")\n",
    "\n",
    "# Step 2: Define the input nodes (by a list)\n",
    "inp_nodes = C.add_inputs(n=2, format=\"inp_%d\")\n",
    "a, b = inp_nodes\n",
    "\n",
    "# Step 3: Perform the computations\n",
    "x0 = a + b\n",
    "x1 = x0 - 5\n",
    "x2 = x1 * x0\n",
    "x3 = x2 / 3\n",
    "x4 = x3 ** 4\n",
    "x5 = ~x4\n",
    "print(\"Circuit information:\")\n",
    "print(C)"
   ]
  },
  {
   "cell_type": "markdown",
   "metadata": {},
   "source": [
    "#### Other operations\n",
    "- Random (`RND`): In a circuit, we can create a random node which contains a random value. See the following example:"
   ]
  },
  {
   "cell_type": "code",
   "execution_count": 6,
   "metadata": {},
   "outputs": [],
   "source": [
    "from circkit.arithmetic import ArithmeticCircuit\n",
    "from sage.all import GF\n",
    "K = GF(2**8)\n",
    "\n",
    "# Step 1: Initialize a new arithmetic circuit\n",
    "C = ArithmeticCircuit(base_ring=K, name=\"AToyCircuit\")\n",
    "\n",
    "# Step 2: Define the input nodes (by a list)\n",
    "a = C.add_input(\"a\")\n",
    "b = C.add_input(\"b\")\n",
    "\n",
    "# Step 3: Perform the computations\n",
    "# x is a node holding a random value\n",
    "x = C.RND()()\n",
    "z = a + b + x"
   ]
  },
  {
   "cell_type": "markdown",
   "metadata": {},
   "source": [
    "- Lookup table (`LUT`): Given a node $x$ and a table $T$ of constants, this operation return a new node of value $T[x]$.  "
   ]
  },
  {
   "cell_type": "code",
   "execution_count": 7,
   "metadata": {},
   "outputs": [],
   "source": [
    "from circkit.arithmetic import ArithmeticCircuit\n",
    "from sage.all import GF\n",
    "K = GF(2**8)\n",
    "\n",
    "# Step 1: Initialize a new arithmetic circuit\n",
    "C = ArithmeticCircuit(base_ring=K, name=\"AToyCircuit\")\n",
    "\n",
    "# Step 2: Define the input nodes (by a list)\n",
    "a = C.add_input(\"a\")\n",
    "b = C.add_input(\"b\")\n",
    "\n",
    "# Step 3: Perform the computations\n",
    "T = (11, 22, 33, 44, 55)\n",
    "T = tuple([K.fetch_int(v) for v in T])\n",
    "x = C.LUT(T)(a)\n",
    "y = C.LUT(T)(b)\n",
    "# Or we can write\n",
    "# x = a.lookup_in(T)\n",
    "# y = b.lookup_in(T)"
   ]
  },
  {
   "cell_type": "markdown",
   "metadata": {},
   "source": [
    "### Step 4: Define the output nodes <a class=\"anchor\" id=\"step-4\"></a>"
   ]
  },
  {
   "cell_type": "markdown",
   "metadata": {},
   "source": [
    "``add_output`` is the only method used to define output nodes. However, it can be used in two different ways:\n",
    "\n",
    "- define the output nodes one by one as the following example"
   ]
  },
  {
   "cell_type": "code",
   "execution_count": 8,
   "metadata": {},
   "outputs": [
    {
     "name": "stdout",
     "output_type": "stream",
     "text": [
      "Circuit output nodes:\n",
      "[<ArithmeticCircuit:EXP[power=4]#8 (7)>, <ArithmeticCircuit:INV#9 (8)>]\n"
     ]
    }
   ],
   "source": [
    "from circkit.arithmetic import ArithmeticCircuit\n",
    "from sage.all import GF\n",
    "K = GF(2**8)\n",
    "\n",
    "# Step 1: Initialize a new arithmetic circuit\n",
    "C = ArithmeticCircuit(base_ring=K, name=\"AToyCircuit\")\n",
    "\n",
    "# Step 2: Define the input nodes (by a list)\n",
    "inp_nodes = C.add_inputs(n=2, format=\"inp_%d\")\n",
    "a, b = inp_nodes\n",
    "\n",
    "# Step 3: Perform the computations\n",
    "x0 = a + b\n",
    "x1 = x0 - 5\n",
    "x2 = x1 * x0\n",
    "x3 = x2 / 3\n",
    "x4 = x3 ** 4\n",
    "x5 = ~x4\n",
    "\n",
    "# Step 4: Define the output nodes (one by one)\n",
    "C.add_output(x4)\n",
    "C.add_output(x5)\n",
    "print(\"Circuit output nodes:\")\n",
    "print(C.outputs)"
   ]
  },
  {
   "cell_type": "markdown",
   "metadata": {},
   "source": [
    "- define a list of output nodes as the following example."
   ]
  },
  {
   "cell_type": "code",
   "execution_count": 9,
   "metadata": {},
   "outputs": [
    {
     "name": "stdout",
     "output_type": "stream",
     "text": [
      "Circuit output:\n",
      "[<ArithmeticCircuit:EXP[power=4]#8 (7)>, <ArithmeticCircuit:INV#9 (8)>]\n"
     ]
    }
   ],
   "source": [
    "from circkit.arithmetic import ArithmeticCircuit\n",
    "from sage.all import GF\n",
    "K = GF(2**8)\n",
    "\n",
    "# Step 1: Initialize a new arithmetic circuit\n",
    "C = ArithmeticCircuit(base_ring=K, name=\"AToyCircuit\")\n",
    "\n",
    "# Step 2: Define the input nodes (by a list)\n",
    "inp_nodes = C.add_inputs(n=2, format=\"inp_%d\")\n",
    "a, b = inp_nodes\n",
    "\n",
    "# Step 3: Perform the computations\n",
    "x0 = a + b\n",
    "x1 = x0 - 5\n",
    "x2 = x1 * x0\n",
    "x3 = x2 / 3\n",
    "x4 = x3 ** 4\n",
    "x5 = ~x4\n",
    "\n",
    "# Step 4: Define the output nodes (one by one)\n",
    "C.add_output([x4, x5])\n",
    "print(\"Circuit output:\")\n",
    "print(C.outputs)"
   ]
  },
  {
   "cell_type": "markdown",
   "metadata": {},
   "source": [
    "### Step 5: Evaluate the circuit <a class=\"anchor\" id=\"step-5\"></a>\n",
    "``evaluate(input: list, convert_input: bool, convert_output: bool)`` is the method used to evaluate a circuit. It returns a list of output values corresponding to the output nodes. This method has 3 arguments:\n",
    "\n",
    "- ``input``: this is a list of input whose length equals to the number of input nodes.\n",
    "- ``convert_input``: this indicates that the input elements should be converted from decimal numbers to base ring elements or not\n",
    "- ``convert_output``: this indicates that the output elements should be converted from base ring elements to decimal numbers or not.\n",
    "\n",
    "By default, ``convert_input = True`` and ``convert_output = True``"
   ]
  },
  {
   "cell_type": "code",
   "execution_count": 10,
   "metadata": {},
   "outputs": [
    {
     "name": "stdout",
     "output_type": "stream",
     "text": [
      "Circuit output:\n",
      "[z8^7 + z8^6 + z8^2 + z8 + 1, z8^7 + z8^4 + z8^3 + z8^2 + z8]\n"
     ]
    }
   ],
   "source": [
    "from circkit.arithmetic import ArithmeticCircuit\n",
    "from sage.all import GF\n",
    "K = GF(2**8)\n",
    "\n",
    "# Step 1: Initialize a new arithmetic circuit\n",
    "C = ArithmeticCircuit(base_ring=K, name=\"AToyCircuit\")\n",
    "\n",
    "# Step 2: Define the input nodes (by a list)\n",
    "inp_nodes = C.add_inputs(n=2, format=\"inp_%d\")\n",
    "a, b = inp_nodes\n",
    "\n",
    "# Step 3: Perform the computations\n",
    "x0 = a + b\n",
    "x1 = x0 - 5\n",
    "x2 = x1 * x0\n",
    "x3 = x2 / 3\n",
    "x4 = x3 ** 4\n",
    "x5 = ~x4\n",
    "\n",
    "# Step 4: Define the output nodes (one by one)\n",
    "C.add_output([x4, x5])\n",
    "\n",
    "# Step 5: Evaluate the circuit\n",
    "inp = [7, 9]\n",
    "out = C.evaluate(inp, convert_input=True, convert_output=False)\n",
    "print(\"Circuit output:\")\n",
    "print(out)"
   ]
  },
  {
   "cell_type": "markdown",
   "metadata": {},
   "source": [
    "## 2. How to visualize a circuit <a class=\"anchor\" id=\"how-to-visualize-a-circuit\"></a>"
   ]
  },
  {
   "cell_type": "markdown",
   "metadata": {},
   "source": [
    "We use [graphviz](https://graphviz.readthedocs.io/en/stable/) to visualize a circuit. Once we have a circuit, we can visualize it by calling the method ``C.digraph().view()``"
   ]
  },
  {
   "cell_type": "code",
   "execution_count": 17,
   "metadata": {},
   "outputs": [
    {
     "data": {
      "text/plain": [
       "'Digraph.gv.pdf'"
      ]
     },
     "execution_count": 17,
     "metadata": {},
     "output_type": "execute_result"
    }
   ],
   "source": [
    "from circkit.arithmetic import ArithmeticCircuit\n",
    "from sage.all import GF\n",
    "K = GF(2**8)\n",
    "\n",
    "# Step 1: Initialize a new arithmetic circuit\n",
    "C = ArithmeticCircuit(base_ring=K, name=\"AToyCircuit\")\n",
    "\n",
    "# Step 2: Define the input nodes (by a list)\n",
    "inp_nodes = C.add_inputs(n=2, format=\"inp_%d\")\n",
    "a, b = inp_nodes\n",
    "\n",
    "# Step 3: Perform the computations\n",
    "x0 = a + b\n",
    "x1 = x0 - 5 + a\n",
    "x2 = x1 * x0\n",
    "x3 = x2 / 3\n",
    "x4 = x3 ** 4\n",
    "x5 = ~x4\n",
    "\n",
    "# Step 4: Define the output nodes (one by one)\n",
    "C.add_output([x4, x5])\n",
    "\n",
    "# Visualize the circuit (Run the code to see)\n",
    "C.digraph().view()"
   ]
  },
  {
   "cell_type": "markdown",
   "metadata": {},
   "source": [
    "![](circuit-visualization.png)"
   ]
  },
  {
   "cell_type": "markdown",
   "metadata": {},
   "source": [
    "## 3. How to transform a circuit to a matrix <a class=\"anchor\" id=\"how-to-transform-a-circuit-to-a-matrix\"></a>"
   ]
  },
  {
   "cell_type": "markdown",
   "metadata": {},
   "source": [
    "An arithmetic circuit can be transformed to an affine $y = Ax + b$, where $x$ is the input and $y$ is the output of the circuit. It is a linear mapping when $b = 0$."
   ]
  },
  {
   "cell_type": "markdown",
   "metadata": {},
   "source": [
    "To be able to transform to an affine mapping, the operations of the circuit must be in the following set:\n",
    "\n",
    "| Operation | Notation  | 2 nodes       | a node and a constant |\n",
    "| :-        | :-:       | :-:           |   :-:                 |\n",
    "| Addition  | $+$         |    Yes        |    Yes                 |\n",
    "| Subtraction | $-$       |    Yes        |    Yes                 |\n",
    "| Multiplication | $*$    |    No        |     Yes                 |\n"
   ]
  },
  {
   "cell_type": "code",
   "execution_count": 12,
   "metadata": {},
   "outputs": [
    {
     "name": "stdout",
     "output_type": "stream",
     "text": [
      "A = [[z8^5 + z8^2, z8^5 + z8^2], [z8^4 + z8 + 1, z8^4 + z8 + 1]]\n",
      "b = [0, z8]\n"
     ]
    }
   ],
   "source": [
    "from circkit.arithmetic import ArithmeticCircuit\n",
    "from sage.all import GF, matrix, vector\n",
    "K = GF(2**8)\n",
    "\n",
    "# Step 1: Initialize a new arithmetic circuit\n",
    "C = ArithmeticCircuit(base_ring=K, name=\"AToyCircuit\")\n",
    "\n",
    "# Step 2: Define the input nodes (by a list)\n",
    "inp_nodes = C.add_inputs(n=2, format=\"inp_%d\")\n",
    "a, b = inp_nodes\n",
    "\n",
    "# Step 3: Perform the computation\n",
    "x0 = a + b\n",
    "x1 = x0 * 19\n",
    "x2 = x1 + x0\n",
    "x3 = x2 * 3\n",
    "x4 = x3 - x2\n",
    "x5 = x1 + 2\n",
    "\n",
    "# Step 4: Define the output nodes (one by one)\n",
    "C.add_output([x4, x5])\n",
    "\n",
    "# Transform to a matrix\n",
    "A, b = C.to_matrix()\n",
    "print(f\"A = {A}\")\n",
    "print(f\"b = {b}\")"
   ]
  },
  {
   "cell_type": "markdown",
   "metadata": {},
   "source": [
    "Let us verify that the result of the computation $y = Ax+b$ is the same as the output of the circuit's evaluation."
   ]
  },
  {
   "cell_type": "code",
   "execution_count": 13,
   "metadata": {},
   "outputs": [
    {
     "name": "stdout",
     "output_type": "stream",
     "text": [
      "Circuit output:\n",
      "[z8^5 + z8^3 + z8 + 1, z8^7 + z8]\n",
      "Verification\n",
      "(z8^5 + z8^3 + z8 + 1, z8^7 + z8)\n",
      "circuit output = verification? True\n"
     ]
    }
   ],
   "source": [
    "# Verify\n",
    "A = matrix(A)\n",
    "b = vector(b)\n",
    "\n",
    "inp = [15, 20]\n",
    "out = C.evaluate(inp, convert_input=True, convert_output=False)\n",
    "\n",
    "x = vector([K.fetch_int(v) for v in inp])\n",
    "y = A*x + b\n",
    "\n",
    "print(\"Circuit output:\")\n",
    "print(out)\n",
    "print(\"Verification\")\n",
    "print(y)\n",
    "print(f\"circuit output = verification? {list(y) == out}\")"
   ]
  },
  {
   "cell_type": "markdown",
   "metadata": {},
   "source": [
    "## 4. How to trace the intermediate values <a class=\"anchor\" id=\"how-to-trace-the-intermediate-values\"></a>\n",
    "Given an input, we can trace the values of each node in a circuit when evaluating the circuit. To do so, we use the function `trace(input: list, convert_input: bool, convert_values: bool, as_list: bool)`\n",
    "\n",
    "- `input`: list of values fedding the input nodes\n",
    "- `convert_input` (`True` by default): convert the input values from decimal to values on base ring\n",
    "- `convert_values` (`True` by default): convert the intermediate values from base ring to decimal\n",
    "- `as_list` (`False` by default): it returns a list of values when `as_list=True`. Otherwise, it displays the details of nodes and their corresponding values"
   ]
  },
  {
   "cell_type": "code",
   "execution_count": 14,
   "metadata": {},
   "outputs": [
    {
     "name": "stdout",
     "output_type": "stream",
     "text": [
      "Trace information:\n",
      "{<ArithmeticCircuit:INPUT[name=inp_0]#0 ()>: 15, <ArithmeticCircuit:INPUT[name=inp_1]#1 ()>: 20, <ArithmeticCircuit:ADD#2 (0,1)>: 27, <ArithmeticCircuit:CONST[value=z8^4 + z8 + 1]#3 ()>: 19, <ArithmeticCircuit:MUL#4 (2,3)>: 128, <ArithmeticCircuit:ADD#5 (4,2)>: 155, <ArithmeticCircuit:CONST[value=z8 + 1]#6 ()>: 3, <ArithmeticCircuit:MUL#7 (5,6)>: 176, <ArithmeticCircuit:SUB#8 (7,5)>: 43, <ArithmeticCircuit:CONST[value=z8]#9 ()>: 2, <ArithmeticCircuit:ADD#10 (4,9)>: 130}\n"
     ]
    },
    {
     "data": {
      "text/plain": [
       "'Digraph.gv.pdf'"
      ]
     },
     "execution_count": 14,
     "metadata": {},
     "output_type": "execute_result"
    }
   ],
   "source": [
    "from circkit.arithmetic import ArithmeticCircuit\n",
    "from sage.all import GF, matrix, vector\n",
    "K = GF(2**8)\n",
    "\n",
    "# Step 1: Initialize a new arithmetic circuit\n",
    "C = ArithmeticCircuit(base_ring=K, name=\"AToyCircuit\")\n",
    "\n",
    "# Step 2: Define the input nodes (by a list)\n",
    "inp_nodes = C.add_inputs(n=2, format=\"inp_%d\")\n",
    "a, b = inp_nodes\n",
    "\n",
    "# Step 3: Perform the computation\n",
    "x0 = a + b\n",
    "x1 = x0 * 19\n",
    "x2 = x1 + x0\n",
    "x3 = x2 * 3\n",
    "x4 = x3 - x2\n",
    "x5 = x1 + 2\n",
    "\n",
    "# Step 4: Define the output nodes (one by one)\n",
    "C.add_output([x4, x5])\n",
    "\n",
    "# Trace the intermediate values\n",
    "inp = [15, 20]\n",
    "T = C.trace(inp, convert_input=True, convert_values=True, as_list=False)\n",
    "print(\"Trace information:\")\n",
    "print(T)\n",
    "\n",
    "# Display the graph (Run the code to see)\n",
    "C.digraph().view()"
   ]
  },
  {
   "cell_type": "markdown",
   "metadata": {},
   "source": [
    "As we can see in the output, every node in the circuit is shown along with its value. We can see in the graph for a better illustration. Now, let's set `as_list=True` to see the output:"
   ]
  },
  {
   "cell_type": "code",
   "execution_count": 15,
   "metadata": {},
   "outputs": [
    {
     "name": "stdout",
     "output_type": "stream",
     "text": [
      "Trace values:\n",
      "[15, 20, 27, 19, 128, 155, 3, 176, 43, 2, 130]\n"
     ]
    }
   ],
   "source": [
    "T = C.trace(inp, convert_input=True, convert_values=True, as_list=True)\n",
    "print(\"Trace values:\")\n",
    "print(T)"
   ]
  }
 ],
 "metadata": {
  "celltoolbar": "Tags",
  "kernelspec": {
   "display_name": "Python 3.9.5 ('.venv': venv)",
   "language": "python",
   "name": "python3"
  },
  "language_info": {
   "codemirror_mode": {
    "name": "ipython",
    "version": 3
   },
   "file_extension": ".py",
   "mimetype": "text/x-python",
   "name": "python",
   "nbconvert_exporter": "python",
   "pygments_lexer": "ipython3",
   "version": "3.9.5"
  },
  "vscode": {
   "interpreter": {
    "hash": "e086617172c2f1b409fe953659570834646c54d1ffbe9a2490a5bb76cb24e9de"
   }
  }
 },
 "nbformat": 4,
 "nbformat_minor": 2
}
