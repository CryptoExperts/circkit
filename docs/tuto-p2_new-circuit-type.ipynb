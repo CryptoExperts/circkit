{
 "cells": [
  {
   "cell_type": "markdown",
   "metadata": {},
   "source": [
    "# How to define a new circuit type"
   ]
  },
  {
   "cell_type": "markdown",
   "metadata": {},
   "source": [
    "In this tutorial, we show you how to define a new circuit type, i.e. define operations of your preference in a circuit, based on the `circkit` framework. In particular, we provide the guidance on:\n",
    "\n",
    "1. [Defining a new circuit type](#defining-a-new-circuit-type)\n",
    "2. [Syntactic sugar](#syntactic-sugar)\n",
    "3. [Some examples](#some-examples)\n"
   ]
  },
  {
   "cell_type": "raw",
   "metadata": {},
   "source": [
    ".. note:: \n",
    "\n",
    "    Note that this tutorial shows you how to define a new circuit type. In practice it is better to use the built-in `ArithmeticCircuit` or `OptArithmeticCircuit` as in the tutorial of building an arithmetic circuit. If necessary, you could inherit those circuits and then define your own operations."
   ]
  },
  {
   "cell_type": "code",
   "execution_count": null,
   "metadata": {
    "tags": [
     "skip"
    ]
   },
   "outputs": [],
   "source": [
    "import sys\n",
    "sys.path.append(\"../\")"
   ]
  },
  {
   "cell_type": "markdown",
   "metadata": {},
   "source": [
    "## 1. Defining a new circuit type <a class=\"anchor\" id=\"defining-a-new-circuit-type\"></a>\n",
    "\n",
    "### Defining syntax <a class=\"anchor\" id=\"defining-syntax\"></a>\n",
    "To define a new circuit type, we follow the steps:\n",
    "\n",
    "1. Inherit the `Circuit` class\n",
    "2. Inherit the `Circuit.Operations` class inside the new circuit type\n",
    "3. Define the operations of the new circuit type as classes nested inside the `Operations` class. Depending on the numbers of input nodes and output nodes, each operation should inherit one of the following types of `Operation`: "
   ]
  },
  {
   "cell_type": "markdown",
   "metadata": {},
   "source": [
    "| Class | Usage |\n",
    "| :-    | :-    |\n",
    "| `Operation.Unary` | Operation with 1 input node |\n",
    "| `Operation.Binary` | Operation with 2 input nodes |\n",
    "| `Operation.Ternary` | Operation with 3 input nodes |\n",
    "| `Operation.Variadic` | Operation with variable number of input nodes |\n",
    "| `Operation.MultiNullary` | Operation with no inputs and variable number of output nodes |\n",
    "| `Operation.MultiUnary` | Operation with 1 input and variable number of output nodes |\n",
    "| `Operation.MultiBinary` | Operation with 2 inputs and variable number of output nodes |\n",
    "| `Operation.MultiTernary` | Operation with 3 inputs and variable number of output nodes |\n",
    "| `Operation.MultiVariadic` | Operation with variable number of input nodes and variable number of output nodes |"
   ]
  },
  {
   "cell_type": "markdown",
   "metadata": {},
   "source": [
    "Let's define addition operation as an example:"
   ]
  },
  {
   "cell_type": "code",
   "execution_count": 1,
   "metadata": {},
   "outputs": [],
   "source": [
    "from circkit import Circuit, Operation\n",
    "\n",
    "class NewCircuitType(Circuit):\n",
    "    class Operations(Circuit.Operations):\n",
    "        class ADD(Operation.Binary):\n",
    "            pass"
   ]
  },
  {
   "cell_type": "markdown",
   "metadata": {},
   "source": [
    "Now, we can construct a circuit with the addition defined above. Recall that we still can use the following useful functions (as shown in the tutorial of building an arithmetic circuit) to build a circuit:\n",
    "\n",
    "- `add_input(name)`: add an input node\n",
    "- `add_inputs(n, format)`: add `n` input nodes\n",
    "- `add_output(node)`: mark `node` as an output node\n",
    "- `add_output(nodelist)`: mark `nodelist` as a list of output nodes\n",
    "- `digraph().view()`: draw and view the graph of the circuit"
   ]
  },
  {
   "cell_type": "code",
   "execution_count": 2,
   "metadata": {},
   "outputs": [
    {
     "name": "stdout",
     "output_type": "stream",
     "text": [
      "Circuit's input nodes:\n",
      "[<NewCircuitType:INPUT[name=x]#0 ()>, <NewCircuitType:INPUT[name=y]#1 ()>]\n",
      "Circuit's output nodes:\n",
      "[<NewCircuitType:ADD#2 (0,1)>]\n"
     ]
    }
   ],
   "source": [
    "circuit = NewCircuitType(name=\"A test circuit\")\n",
    "\n",
    "x = circuit.add_input(\"x\")\n",
    "y = circuit.add_input(\"y\")\n",
    "z = circuit.ADD()(x, y)\n",
    "circuit.add_output(z)\n",
    "\n",
    "# circuit.digraph().view()\n",
    "print(\"Circuit's input nodes:\")\n",
    "print(circuit.inputs)\n",
    "print(\"Circuit's output nodes:\")\n",
    "print(circuit.outputs)"
   ]
  },
  {
   "cell_type": "markdown",
   "metadata": {},
   "source": [
    "## Defining evaluation <a class=\"anchor\" id=\"defining-evaluation\"></a>\n",
    "So far, the circuit is just about the syntax since we define the computational graph but no computational rules.\n",
    "This is fine, since typical applications are not all about computing the circuit. However, evaluating the circuit can be useful for testing purposes. To achieve this, we simply need to define the evaluation function for our operation."
   ]
  },
  {
   "cell_type": "code",
   "execution_count": 3,
   "metadata": {},
   "outputs": [],
   "source": [
    "from circkit import Circuit, Operation\n",
    "\n",
    "class NewCircuitType(Circuit):\n",
    "    class Operations(Circuit.Operations):\n",
    "        class ADD(Operation.Binary):\n",
    "            def eval(self, a, b):\n",
    "                return a + b"
   ]
  },
  {
   "cell_type": "markdown",
   "metadata": {},
   "source": [
    "Now we can evaluate the circuit."
   ]
  },
  {
   "cell_type": "code",
   "execution_count": 4,
   "metadata": {},
   "outputs": [
    {
     "name": "stdout",
     "output_type": "stream",
     "text": [
      "Circuit's output:\n",
      "[30]\n"
     ]
    }
   ],
   "source": [
    "circuit = NewCircuitType(name=\"A test circuit\")\n",
    "\n",
    "x = circuit.add_input(\"x\")\n",
    "y = circuit.add_input(\"y\")\n",
    "z = circuit.ADD()(x, y)\n",
    "circuit.add_output(z)\n",
    "\n",
    "inp = [10, 20]\n",
    "out = circuit.evaluate(inp)\n",
    "print(\"Circuit's output:\")\n",
    "print(out)"
   ]
  },
  {
   "cell_type": "markdown",
   "metadata": {},
   "source": [
    "### Defining operations with parameters <a class=\"anchor\" id=\"defining-operations-with-parameters\"></a>\n",
    "\n",
    "Defining an operation parameter is done through annotations, with possible assignment to mark a default value. It is then stored as an attribute of the operation instance, accessible e.g. for evaluation. Let's define `EXP` operation with the `power` parameter as an example."
   ]
  },
  {
   "cell_type": "code",
   "execution_count": 5,
   "metadata": {},
   "outputs": [],
   "source": [
    "from circkit import Circuit, Operation, Param\n",
    "\n",
    "class NewCircuitType(Circuit):\n",
    "    class Operations(Circuit.Operations):\n",
    "        class ADD(Operation.Binary):\n",
    "            def eval(self, a, b):\n",
    "                return a + b\n",
    "        \n",
    "        class EXP(Operation.Unary):\n",
    "            power : Param.Int(min_value=0) = 2\n",
    "            def eval(self, a):\n",
    "                return a**self.power"
   ]
  },
  {
   "cell_type": "markdown",
   "metadata": {},
   "source": [
    "In the example above, `power` takes 2 as the default value. Let's build a circuit to test it:"
   ]
  },
  {
   "cell_type": "code",
   "execution_count": 6,
   "metadata": {},
   "outputs": [
    {
     "name": "stdout",
     "output_type": "stream",
     "text": [
      "Circuit's output:\n",
      "[25, 125]\n"
     ]
    }
   ],
   "source": [
    "circuit = NewCircuitType(name=\"test circuit\")\n",
    "\n",
    "x = circuit.add_input(\"x\")\n",
    "xsquare = circuit.EXP()(x)\n",
    "xcube = circuit.EXP(3)(x)\n",
    "circuit.add_output([xsquare, xcube])\n",
    "\n",
    "inp = [5]\n",
    "out = circuit.evaluate([5])\n",
    "print(\"Circuit's output:\")\n",
    "print(out)"
   ]
  },
  {
   "cell_type": "markdown",
   "metadata": {},
   "source": [
    "Here, we used [Param.Int](source/param.rst#circkit.param.IntParam) to constraint the parameter type and value. The following table contains the parameter constraints supported by `circkit`:\n",
    "\n",
    "| Class         | Usage |\n",
    "| :-            |  :-   |\n",
    "| `Param.Const` | constants  |\n",
    "| `Param.Int`   | integers      |\n",
    "| `Param.Bool`  | booleans      |\n",
    "| `Param.Str`   | strings      |\n",
    "| `Param.Tuple` | tuples       |\n",
    "| `Param.InputName` | name of an input, can be string or integer|"
   ]
  },
  {
   "cell_type": "markdown",
   "metadata": {},
   "source": [
    "If we provide an incompatible value, it will cause an error. For example:"
   ]
  },
  {
   "cell_type": "code",
   "execution_count": 7,
   "metadata": {},
   "outputs": [
    {
     "ename": "ValueError",
     "evalue": "invalid literal for int() with base 10: 'four'",
     "output_type": "error",
     "traceback": [
      "\u001b[0;31m---------------------------------------------------------------------------\u001b[0m",
      "\u001b[0;31mValueError\u001b[0m                                Traceback (most recent call last)",
      "\u001b[0;32m<ipython-input-7-72e779c46385>\u001b[0m in \u001b[0;36m<module>\u001b[0;34m\u001b[0m\n\u001b[0;32m----> 1\u001b[0;31m \u001b[0mxquartic\u001b[0m \u001b[0;34m=\u001b[0m \u001b[0mcircuit\u001b[0m\u001b[0;34m.\u001b[0m\u001b[0mEXP\u001b[0m\u001b[0;34m(\u001b[0m\u001b[0;34m\"four\"\u001b[0m\u001b[0;34m)\u001b[0m\u001b[0;34m(\u001b[0m\u001b[0mx\u001b[0m\u001b[0;34m)\u001b[0m\u001b[0;34m\u001b[0m\u001b[0;34m\u001b[0m\u001b[0m\n\u001b[0m",
      "\u001b[0;32m~/Work/wbc/circkit/.venv/lib/python3.9/site-packages/circkit/operation.py\u001b[0m in \u001b[0;36m__call__\u001b[0;34m(cls, *values, **kvalues)\u001b[0m\n\u001b[1;32m    158\u001b[0m         \u001b[0;31m# create the Operation instance anyway\u001b[0m\u001b[0;34m\u001b[0m\u001b[0;34m\u001b[0m\u001b[0;34m\u001b[0m\u001b[0m\n\u001b[1;32m    159\u001b[0m         \u001b[0;31m# (not avoiding it to unify parsing of parameters)\u001b[0m\u001b[0;34m\u001b[0m\u001b[0;34m\u001b[0m\u001b[0;34m\u001b[0m\u001b[0m\n\u001b[0;32m--> 160\u001b[0;31m         \u001b[0mop_new\u001b[0m \u001b[0;34m=\u001b[0m \u001b[0msuper\u001b[0m\u001b[0;34m(\u001b[0m\u001b[0;34m)\u001b[0m\u001b[0;34m.\u001b[0m\u001b[0m__call__\u001b[0m\u001b[0;34m(\u001b[0m\u001b[0;34m*\u001b[0m\u001b[0mvalues\u001b[0m\u001b[0;34m,\u001b[0m \u001b[0;34m**\u001b[0m\u001b[0mkvalues\u001b[0m\u001b[0;34m)\u001b[0m\u001b[0;34m\u001b[0m\u001b[0;34m\u001b[0m\u001b[0m\n\u001b[0m\u001b[1;32m    161\u001b[0m         \u001b[0;32mif\u001b[0m \u001b[0mcls\u001b[0m\u001b[0;34m.\u001b[0m\u001b[0m_circuit\u001b[0m \u001b[0;32mis\u001b[0m \u001b[0;32mnot\u001b[0m \u001b[0;32mNone\u001b[0m \u001b[0;32mand\u001b[0m \u001b[0mcls\u001b[0m\u001b[0;34m.\u001b[0m\u001b[0m_circuit\u001b[0m\u001b[0;34m.\u001b[0m\u001b[0mCACHE_OPERATIONS\u001b[0m\u001b[0;34m:\u001b[0m\u001b[0;34m\u001b[0m\u001b[0;34m\u001b[0m\u001b[0m\n\u001b[1;32m    162\u001b[0m             \u001b[0;31m# if a similar operation is in cache,\u001b[0m\u001b[0;34m\u001b[0m\u001b[0;34m\u001b[0m\u001b[0;34m\u001b[0m\u001b[0m\n",
      "\u001b[0;32m~/Work/wbc/circkit/.venv/lib/python3.9/site-packages/circkit/operation.py\u001b[0m in \u001b[0;36m__init__\u001b[0;34m(self, *values, **kvalues)\u001b[0m\n\u001b[1;32m    276\u001b[0m             \u001b[0;31m# - param checks only single value, is independent\u001b[0m\u001b[0;34m\u001b[0m\u001b[0;34m\u001b[0m\u001b[0;34m\u001b[0m\u001b[0m\n\u001b[1;32m    277\u001b[0m             \u001b[0;31m# - to check groups, add methods to the op class\u001b[0m\u001b[0;34m\u001b[0m\u001b[0;34m\u001b[0m\u001b[0;34m\u001b[0m\u001b[0m\n\u001b[0;32m--> 278\u001b[0;31m             \u001b[0msetattr\u001b[0m\u001b[0;34m(\u001b[0m\u001b[0mself\u001b[0m\u001b[0;34m,\u001b[0m \u001b[0mname\u001b[0m\u001b[0;34m,\u001b[0m \u001b[0mparam\u001b[0m\u001b[0;34m.\u001b[0m\u001b[0mcreate\u001b[0m\u001b[0;34m(\u001b[0m\u001b[0mself\u001b[0m\u001b[0;34m,\u001b[0m \u001b[0mvalue\u001b[0m\u001b[0;34m=\u001b[0m\u001b[0mkvalues\u001b[0m\u001b[0;34m[\u001b[0m\u001b[0mname\u001b[0m\u001b[0;34m]\u001b[0m\u001b[0;34m)\u001b[0m\u001b[0;34m)\u001b[0m\u001b[0;34m\u001b[0m\u001b[0;34m\u001b[0m\u001b[0m\n\u001b[0m\u001b[1;32m    279\u001b[0m \u001b[0;34m\u001b[0m\u001b[0m\n\u001b[1;32m    280\u001b[0m     \u001b[0;32mdef\u001b[0m \u001b[0m__call__\u001b[0m\u001b[0;34m(\u001b[0m\u001b[0mself\u001b[0m\u001b[0;34m,\u001b[0m \u001b[0;34m*\u001b[0m\u001b[0mincoming\u001b[0m\u001b[0;34m,\u001b[0m \u001b[0;34m**\u001b[0m\u001b[0mkwargs\u001b[0m\u001b[0;34m)\u001b[0m\u001b[0;34m:\u001b[0m\u001b[0;34m\u001b[0m\u001b[0;34m\u001b[0m\u001b[0m\n",
      "\u001b[0;32m~/Work/wbc/circkit/.venv/lib/python3.9/site-packages/circkit/param.py\u001b[0m in \u001b[0;36mcreate\u001b[0;34m(self, operation, value)\u001b[0m\n\u001b[1;32m     58\u001b[0m \u001b[0;34m\u001b[0m\u001b[0m\n\u001b[1;32m     59\u001b[0m     \u001b[0;32mdef\u001b[0m \u001b[0mcreate\u001b[0m\u001b[0;34m(\u001b[0m\u001b[0mself\u001b[0m\u001b[0;34m,\u001b[0m \u001b[0moperation\u001b[0m\u001b[0;34m,\u001b[0m \u001b[0mvalue\u001b[0m\u001b[0;34m:\u001b[0m \u001b[0mint\u001b[0m\u001b[0;34m)\u001b[0m\u001b[0;34m:\u001b[0m\u001b[0;34m\u001b[0m\u001b[0;34m\u001b[0m\u001b[0m\n\u001b[0;32m---> 60\u001b[0;31m         \u001b[0mvalue\u001b[0m \u001b[0;34m=\u001b[0m \u001b[0mint\u001b[0m\u001b[0;34m(\u001b[0m\u001b[0mvalue\u001b[0m\u001b[0;34m)\u001b[0m\u001b[0;34m\u001b[0m\u001b[0;34m\u001b[0m\u001b[0m\n\u001b[0m\u001b[1;32m     61\u001b[0m         \u001b[0;32mif\u001b[0m \u001b[0mself\u001b[0m\u001b[0;34m.\u001b[0m\u001b[0mmin_value\u001b[0m \u001b[0;32mis\u001b[0m \u001b[0;32mnot\u001b[0m \u001b[0;32mNone\u001b[0m \u001b[0;32mand\u001b[0m \u001b[0mself\u001b[0m\u001b[0;34m.\u001b[0m\u001b[0mmin_value\u001b[0m \u001b[0;34m>\u001b[0m \u001b[0mvalue\u001b[0m\u001b[0;34m:\u001b[0m\u001b[0;34m\u001b[0m\u001b[0;34m\u001b[0m\u001b[0m\n\u001b[1;32m     62\u001b[0m             raise Param.InvalidValue(\n",
      "\u001b[0;31mValueError\u001b[0m: invalid literal for int() with base 10: 'four'"
     ]
    }
   ],
   "source": [
    "xquartic = circuit.EXP(\"four\")(x)"
   ]
  },
  {
   "cell_type": "markdown",
   "metadata": {},
   "source": [
    "## 2. Syntactic sugar <a class=\"anchor\" id=\"syntactic-sugar\"></a>"
   ]
  },
  {
   "cell_type": "markdown",
   "metadata": {},
   "source": [
    "It is a bit clumsy to write `ADD`, `EXP` when building circuits, when these are basic arithmetic operations. We can define syntax sugar naturally by subclassing the [Node](source/node.rst#circkit.node.Node) class."
   ]
  },
  {
   "cell_type": "code",
   "execution_count": 8,
   "metadata": {},
   "outputs": [],
   "source": [
    "class NewCircuitType(Circuit):\n",
    "    class Operations(Circuit.Operations):\n",
    "        class ADD(Operation.Binary):\n",
    "            def eval(self, a, b):\n",
    "                return a + b\n",
    "            \n",
    "        class EXP(Operation.Unary):\n",
    "            power : Param.Int(min_value=0) = 2\n",
    "            def eval(self, a):\n",
    "                return a**self.power\n",
    "    \n",
    "    class Node(Circuit.Node):\n",
    "        def __add__(self, other):\n",
    "            return self.circuit.ADD()(self, other)\n",
    "        \n",
    "        def __pow__(self, power):\n",
    "            return self.circuit.EXP(power)(self)"
   ]
  },
  {
   "cell_type": "markdown",
   "metadata": {},
   "source": [
    "Life gets much easier now:"
   ]
  },
  {
   "cell_type": "code",
   "execution_count": 10,
   "metadata": {},
   "outputs": [
    {
     "name": "stdout",
     "output_type": "stream",
     "text": [
      "Circuit's output:\n",
      "[100121]\n"
     ]
    }
   ],
   "source": [
    "circuit = NewCircuitType()\n",
    "x = circuit.add_input(\"x\")\n",
    "y = circuit.add_input(\"y\")\n",
    "z = (x + y)**2 + x**5\n",
    "circuit.add_output(z)\n",
    "\n",
    "inp = [10, 1]\n",
    "out = circuit.evaluate(inp)\n",
    "print(\"Circuit's output:\")\n",
    "print(out)"
   ]
  },
  {
   "cell_type": "markdown",
   "metadata": {},
   "source": [
    "## 3. Some examples <a class=\"anchor\" id=\"some-examples\"></a>\n",
    "In this section, we demonstrate examples of defining circuit types with some interesting operations (rather than basic addition, substraction, multiplication, ...). This aims to show that we can define a new circuit type with *our own operations*."
   ]
  },
  {
   "cell_type": "markdown",
   "metadata": {},
   "source": [
    "### Example 1\n",
    "We define a new circuit type with 2 operations:\n",
    "\n",
    "- MADD: given a list $(x_1, x_2, \\ldots, x_n)$, it returns the sum $x_1 + x_2 + \\ldots + x_n$\n",
    "- MMUL: given a list $(x_1, x_2, \\ldots, x_n)$, it returns the product $x_1 \\times x_2 \\times \\ldots \\times x_n$"
   ]
  },
  {
   "cell_type": "code",
   "execution_count": 11,
   "metadata": {},
   "outputs": [
    {
     "name": "stdout",
     "output_type": "stream",
     "text": [
      "Circuit's output:\n",
      "[15, 120]\n"
     ]
    }
   ],
   "source": [
    "# Define a new circuit type\n",
    "class NewCircuitType(Circuit):\n",
    "    class Operations(Circuit.Operations):\n",
    "        class MADD(Operation.Variadic):\n",
    "            def eval(self, *operands):\n",
    "                return sum(operands)\n",
    "            \n",
    "        class MMUL(Operation.Variadic):\n",
    "            def eval(self, *operands):\n",
    "                r = 1\n",
    "                for x in operands:\n",
    "                    r *= x\n",
    "                return r\n",
    "\n",
    "# Create a new circuit instance\n",
    "circuit = NewCircuitType(name=\"test circuit\")\n",
    "x = circuit.add_inputs(5, \"x%d\")\n",
    "y = circuit.MADD()(*x)\n",
    "z = circuit.MMUL()(*x)\n",
    "circuit.add_output(y)\n",
    "circuit.add_output(z)\n",
    "\n",
    "# Evaluate the circuit\n",
    "inp = [x+1 for x in range(5)]\n",
    "out = circuit.evaluate(inp)\n",
    "print(\"Circuit's output:\")\n",
    "print(out)"
   ]
  },
  {
   "cell_type": "markdown",
   "metadata": {},
   "source": [
    "### Example 2\n",
    "We define a new circuit type with 2 operations:\n",
    "\n",
    "- MADDC: given a constant $c$ and a list $(x_1, x_2, \\ldots, x_n)$, it returns a list $(c+x_1, c+x_2, \\ldots, c+x_n)$\n",
    "- MMULC: given a constant $c$ and a list $(x_1, x_2, \\ldots, x_n)$, it returns a list $(cx_1, cx_2, \\ldots, cx_n)$"
   ]
  },
  {
   "cell_type": "code",
   "execution_count": 12,
   "metadata": {},
   "outputs": [
    {
     "name": "stdout",
     "output_type": "stream",
     "text": [
      "Circuit's output:\n",
      "[[11, 12, 13, 14, 15], [10, 20, 30, 40, 50]]\n"
     ]
    }
   ],
   "source": [
    "# Define a new circuit type\n",
    "class NewCircuitType(Circuit):\n",
    "    class Operations(Circuit.Operations):\n",
    "        class MADDC(Operation.Variadic):\n",
    "            def eval(self, c, *operands):\n",
    "                return [c + x for x in operands]\n",
    "            \n",
    "        class MMULC(Operation.Variadic):\n",
    "            def eval(self, c, *operands):\n",
    "                return [c * x for x in operands]\n",
    "\n",
    "# Create a new circuit instance\n",
    "circuit = NewCircuitType(name=\"test circuit\")\n",
    "c = 10\n",
    "x = circuit.add_inputs(5, \"x%d\")\n",
    "y = circuit.MADDC()(c, *x)\n",
    "z = circuit.MMULC()(c, *x)\n",
    "circuit.add_output(y)\n",
    "circuit.add_output(z)\n",
    "\n",
    "# Evaluate the circuit\n",
    "inp = [x+1 for x in range(5)]\n",
    "out = circuit.evaluate(inp)\n",
    "print(\"Circuit's output:\")\n",
    "print(out)"
   ]
  }
 ],
 "metadata": {
  "celltoolbar": "Tags",
  "kernelspec": {
   "display_name": "Python 3 (ipykernel)",
   "language": "python",
   "name": "python3"
  },
  "language_info": {
   "codemirror_mode": {
    "name": "ipython",
    "version": 3
   },
   "file_extension": ".py",
   "mimetype": "text/x-python",
   "name": "python",
   "nbconvert_exporter": "python",
   "pygments_lexer": "ipython3",
   "version": "3.8.10"
  },
  "vscode": {
   "interpreter": {
    "hash": "986ed710fd0861d223fd21335cd6da488ecd593829391b548355316a07d356bf"
   }
  }
 },
 "nbformat": 4,
 "nbformat_minor": 4
}
