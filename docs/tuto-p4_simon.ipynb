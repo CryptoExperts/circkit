{
 "cells": [
  {
   "cell_type": "markdown",
   "metadata": {},
   "source": [
    "# Simon Cipher"
   ]
  },
  {
   "cell_type": "markdown",
   "metadata": {},
   "source": [
    "## Implementation of Simon cipher"
   ]
  },
  {
   "cell_type": "code",
   "execution_count": 4,
   "metadata": {},
   "outputs": [],
   "source": [
    "# Reference: https://github.com/inmcm/Simon_Speck_Ciphers/blob/master/Python/simonspeckciphers/simon/simon.py\n",
    "# For the sake of simplicity, we modified some functions of the original implementation\n",
    "from collections import deque\n",
    "\n",
    "class SimonCipher(object):\n",
    "    \"\"\"Simon Block Cipher Object\"\"\"\n",
    "\n",
    "    # Z Arrays (stored bit reversed for easier usage)\n",
    "    z0 = 0b01100111000011010100100010111110110011100001101010010001011111\n",
    "    z1 = 0b01011010000110010011111011100010101101000011001001111101110001\n",
    "    z2 = 0b11001101101001111110001000010100011001001011000000111011110101\n",
    "    z3 = 0b11110000101100111001010001001000000111101001100011010111011011\n",
    "    z4 = 0b11110111001001010011000011101000000100011011010110011110001011\n",
    "\n",
    "    # valid cipher configurations stored:\n",
    "    # block_size:{key_size:(number_rounds,z sequence)}\n",
    "    __valid_setups = {32: {64: (32, z0)},\n",
    "                      48: {72: (36, z0), 96: (36, z1)},\n",
    "                      64: {96: (42, z2), 128: (44, z3)},\n",
    "                      96: {96: (52, z2), 144: (54, z3)},\n",
    "                      128: {128: (68, z2), 192: (69, z3), 256: (72, z4)}}\n",
    "\n",
    "    def __init__(self, key, key_size=128, block_size=128):\n",
    "        \"\"\"\n",
    "        Initialize an instance of the Simon block cipher.\n",
    "        :param key: Int representation of the encryption key\n",
    "        :param key_size: Int representing the encryption key in bits\n",
    "        :param block_size: Int representing the block size in bits\n",
    "        :return: None\n",
    "        \"\"\"\n",
    "\n",
    "        # Setup block/word size\n",
    "        self.possible_setups = self.__valid_setups[block_size]\n",
    "        self.block_size = block_size\n",
    "        self.word_size = self.block_size >> 1\n",
    "\n",
    "        self.rounds, self.zseq = self.possible_setups[key_size]\n",
    "        self.key_size = key_size\n",
    "\n",
    "        # Create Properly Sized bit mask for truncating addition and left shift outputs\n",
    "        self.mod_mask = (2 ** self.word_size) - 1\n",
    "\n",
    "        # Check key length\n",
    "        assert len(key) == (self.key_size // self.word_size)\n",
    "        self.key = key\n",
    "\n",
    "        # Pre-compute the key schedule\n",
    "        self.key_schedule()\n",
    "\n",
    "\n",
    "    def key_schedule(self):\n",
    "        m = self.key_size // self.word_size\n",
    "        m1 = m - 1\n",
    "        self.round_keys = []\n",
    "        # Create list of subwords from encryption key\n",
    "        k_init = self.key\n",
    "\n",
    "        k_reg = deque(k_init)  # Use queue to manage key subwords\n",
    "\n",
    "        round_constant = self.mod_mask ^ 3  # Round Constant is 0xFFFF..FC\n",
    "\n",
    "        # Generate all round keys\n",
    "        for x in range(self.rounds):\n",
    "            s3 = self.word_size - 3\n",
    "            rs_3 = ((k_reg[0] << s3) + (k_reg[0] >> 3)) & self.mod_mask\n",
    "\n",
    "            if m == 4:\n",
    "                rs_3 = rs_3 ^ k_reg[2]\n",
    "\n",
    "            s1 = self.word_size - 1\n",
    "            rs_1 = ((rs_3 << s1) + (rs_3 >> 1)) & self.mod_mask\n",
    "\n",
    "            c_z = ((self.zseq >> (x % 62)) & 1) ^ round_constant\n",
    "\n",
    "            new_k = c_z ^ rs_1 ^ rs_3 ^ k_reg[m1]\n",
    "\n",
    "            self.round_keys.append(k_reg.pop())\n",
    "            k_reg.appendleft(new_k)\n",
    "        \n",
    "        return self.round_keys\n",
    "\n",
    "    def encrypt(self, l, r):\n",
    "        x = l\n",
    "        y = r\n",
    "\n",
    "        # Run Encryption Steps For Appropriate Number of Rounds\n",
    "        for k in self.round_keys:\n",
    "             # Generate all circular shifts\n",
    "            s1 = self.word_size - 1\n",
    "            s8 = self.word_size - 8\n",
    "            s2 = self.word_size - 2\n",
    "            ls_1_x = ((x >> s1) + (x << 1)) & self.mod_mask\n",
    "            ls_8_x = ((x >> s8) + (x << 8)) & self.mod_mask\n",
    "            ls_2_x = ((x >> s2) + (x << 2)) & self.mod_mask\n",
    "\n",
    "            # XOR Chain\n",
    "            xor_1 = (ls_1_x & ls_8_x) ^ y\n",
    "            xor_2 = xor_1 ^ ls_2_x\n",
    "            y = x\n",
    "            x = k ^ xor_2\n",
    "\n",
    "        return x, y   \n",
    "\n",
    "    def decrypt(self, l, r):    \n",
    "        x = l\n",
    "        y = r\n",
    "\n",
    "        # Run Encryption Steps For Appropriate Number of Rounds\n",
    "        for k in reversed(self.round_keys): \n",
    "             # Generate all circular shifts\n",
    "            ls_1_x = ((x >> (self.word_size - 1)) + (x << 1)) & self.mod_mask\n",
    "            ls_8_x = ((x >> (self.word_size - 8)) + (x << 8)) & self.mod_mask\n",
    "            ls_2_x = ((x >> (self.word_size - 2)) + (x << 2)) & self.mod_mask\n",
    "\n",
    "            # XOR Chain\n",
    "            xor_1 = (ls_1_x & ls_8_x) ^ y\n",
    "            xor_2 = xor_1 ^ ls_2_x\n",
    "            y = x\n",
    "            x = k ^ xor_2\n",
    "\n",
    "        return x, y\n"
   ]
  },
  {
   "cell_type": "markdown",
   "metadata": {},
   "source": [
    "Then, we can test the above implementation with [some test vectors given by the authors of Simon](https://eprint.iacr.org/2013/404.pdf)"
   ]
  },
  {
   "cell_type": "code",
   "execution_count": 5,
   "metadata": {},
   "outputs": [],
   "source": [
    "k3264 = [0x1918, 0x1110, 0x0908, 0x0100]\n",
    "l3264, r3264 = 0x6565, 0x6877\n",
    "c3264 = SimonCipher(k3264, key_size=64, block_size=32)\n",
    "t3264 = c3264.encrypt(l3264, r3264)\n",
    "assert t3264 == (0xc69b, 0xe9bb)\n",
    "\n",
    "k128256 = [0x1f1e1d1c1b1a1918, 0x1716151413121110, 0x0f0e0d0c0b0a0908, 0x0706050403020100]\n",
    "l128256, r128256 = 0x74206e69206d6f6f, 0x6d69732061207369\n",
    "c128256 = SimonCipher(k128256, key_size=256, block_size=128)\n",
    "t128256 = c128256.encrypt(l128256, r128256)\n",
    "assert t128256 == (0x8d2b5579afc8a3a0, 0x3bf72a87efe7b868)"
   ]
  },
  {
   "cell_type": "markdown",
   "metadata": {},
   "source": [
    "## Build a circuit for Simon cipher\n",
    "\n",
    "We use a bitwise circuit to construct the Simon cipher."
   ]
  },
  {
   "cell_type": "code",
   "execution_count": null,
   "metadata": {
    "tags": [
     "skip"
    ]
   },
   "outputs": [],
   "source": [
    "import sys\n",
    "sys.path.append(\"../\")"
   ]
  },
  {
   "cell_type": "code",
   "execution_count": 6,
   "metadata": {},
   "outputs": [],
   "source": [
    "from circkit.bitwise import BitwiseCircuit\n",
    "\n",
    "C = BitwiseCircuit()\n",
    "key = C.add_inputs(n=4, format=\"k%d\")\n",
    "msg = C.add_inputs(n=2, format=\"m%d\")\n",
    "simon = SimonCipher(key, key_size=64, block_size=32)\n",
    "cpt = simon.encrypt(msg[0], msg[1])\n",
    "C.add_output(cpt)\n"
   ]
  },
  {
   "cell_type": "markdown",
   "metadata": {},
   "source": [
    "Then, we can evaluate the circuit to test its correctness."
   ]
  },
  {
   "cell_type": "code",
   "execution_count": 7,
   "metadata": {},
   "outputs": [
    {
     "name": "stdout",
     "output_type": "stream",
     "text": [
      "[50843, 59835]\n"
     ]
    }
   ],
   "source": [
    "k3264 = [0x1918, 0x1110, 0x0908, 0x0100]\n",
    "m3264 = [0x6565, 0x6877]\n",
    "inp = k3264 + m3264\n",
    "out = C.evaluate(inp)\n",
    "print(out)"
   ]
  },
  {
   "cell_type": "markdown",
   "metadata": {},
   "source": [
    "Note that we are using bitwise circuit and the truncation `x & self.mod_mask` is done automatically in the circuit. Therefore it is not necessary to have this truncation in the circuit. In the above Simon cipher, we still put it there because it is needed for the verification of the Simon implementation before building its circuit."
   ]
  }
 ],
 "metadata": {
  "celltoolbar": "Tags",
  "kernelspec": {
   "display_name": "Python 3",
   "language": "python",
   "name": "python3"
  },
  "language_info": {
   "codemirror_mode": {
    "name": "ipython",
    "version": 3
   },
   "file_extension": ".py",
   "mimetype": "text/x-python",
   "name": "python",
   "nbconvert_exporter": "python",
   "pygments_lexer": "ipython3",
   "version": "3.9.5"
  },
  "vscode": {
   "interpreter": {
    "hash": "986ed710fd0861d223fd21335cd6da488ecd593829391b548355316a07d356bf"
   }
  }
 },
 "nbformat": 4,
 "nbformat_minor": 2
}
